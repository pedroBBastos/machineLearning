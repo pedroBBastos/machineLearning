{
 "cells": [
  {
   "cell_type": "markdown",
   "id": "recent-plastic",
   "metadata": {},
   "source": [
    "# Relatório do Projeto 1 - Machine Learning"
   ]
  },
  {
   "cell_type": "markdown",
   "id": "listed-nitrogen",
   "metadata": {},
   "source": [
    "### Métodos de Aprendizado não supervisionado para Clusterização de Datasets"
   ]
  },
  {
   "cell_type": "markdown",
   "id": "realistic-russell",
   "metadata": {},
   "source": [
    "\n",
    "##### Aluno: Pedro Barro Bastos     RA: 204481\n",
    "##### Aluno: Gabriel Volpato Giliotti     RA: 197569\n"
   ]
  },
  {
   "cell_type": "markdown",
   "id": "perceived-cowboy",
   "metadata": {},
   "source": [
    "\n",
    "\n",
    "## Introdução"
   ]
  },
  {
   "cell_type": "markdown",
   "id": "tutorial-potato",
   "metadata": {},
   "source": [
    "##### No século XXI, com o desenvolvimento e acesso à tecnologias cada vez mais novas, são produzidas quantidades massivas de dados e também novos desafios para o próprio desenvolvimento da tecnologia, que ao serem processados por algoritmos comumente conhecidos (buscas/ordenações) levam tempo computacional não viável para serem resolvidos. A partir dessas necessidades, foi desenvolvido o Aprendizado de Máquina, que é uma técnica de programação (ou até mesmo uma classe de algoritmos) onde o computador deve ser capaz de aprender com os dados previamente processados e, a partir deles, tomar decisões sobre novos dados nunca visitados. Desse modo, nosso projeto visa o desenvolvimento de dois algoritmos de aprendizado não supervisionado que foram aplicados para dois diferentes datasets, sendo um deles com duas features (fornecido pela professora) e outro buscado pelos integrantes dos projeto, com 12 features.   "
   ]
  },
  {
   "cell_type": "markdown",
   "id": "alternate-plumbing",
   "metadata": {},
   "source": [
    "## Problema"
   ]
  },
  {
   "cell_type": "markdown",
   "id": "concerned-fifteen",
   "metadata": {},
   "source": [
    "##### O problema discutido nesse trabalho é a busca pelos melhores parâmetros de input dos algoritmos de aprendizado não supervisionado para a aplicação de clusterizações nos diferentes datasets, de forma que, ao se encontrar esses valores ótimos, a clusterização para dados nunca antes visitados ocorra com grande chance de acerto.\n",
    "\n",
    "### Dataset Cluster.dat\n",
    "\n",
    "##### O dataset com duas features fornecido pela professora, se trata de um dataset com numeros aleatórios que, ao serem plotados, mostram estar pré-dispostos em formato de clusters. Logo, ao se aplicar a metodologia para o aprendizado do algoritmo e avaliação das métricas, é fácil encontrar os parâmetros ótimos para execução sobre os dados de teste. Além disso, este dataset foi separado entre dados de treinamento (sendo 90% dos dados originais) e dados de teste (sendo os outros 10% dos dados restantes).\n",
    "\n",
    "### Dataset TripAdvisorReview.csv\n",
    "\n",
    "##### Para o dataset com 12 features ... (Colocar um pouco o que significa o dataset). Além disso, este dataset também foi separado entre dados de treinamento (sendo 90% dos dados originais) e dados de teste (sendo os outros 10% dos dados restantes).\n",
    "\n",
    "##### Para ambos os datasets, os dados de avalição e discussões se encontram  em uma seção posterior desse relatório."
   ]
  },
  {
   "cell_type": "markdown",
   "id": "optimum-mystery",
   "metadata": {},
   "source": [
    "## Soluções\n",
    "\n",
    "##### Para desenvolvimento do projeto, dividimos as tarefas entre as duplas onde, a busca pelo segundo dataset foi feita em conjunto havendo discussão sobre o que poderia ser melhor ou pior para o espaço de tempo que tinhamos para implementar o projeto. Além disso, A implementação do algoritmo de aprendizado não supervisionado Kmeans junto com suas métricas de avaliação foram implementadas pelo membro Gabriel e a implementação do segundo algoritmo de aprendizado não supervisionado escolhido junto de suas métricas de avaliação, que no caso, foi o dbScan, foram implementadas pelo membro Pedro. Vale ressaltar que tudo foi feito durante algumas calls pelo google meet onde implementavamos os métodos e discutiamos sobre os possíveis problemas e suas soluções."
   ]
  },
  {
   "cell_type": "markdown",
   "id": "funny-alert",
   "metadata": {},
   "source": [
    "## Kmeans Clusters e Elbows"
   ]
  },
  {
   "cell_type": "markdown",
   "id": "particular-hazard",
   "metadata": {},
   "source": [
    "##### Para encontrar o valor mais adequado de Input para o Kmeans, executamos o algoritmo para diferentes quantidades de clusters e, em seguida, utilizamos um método heurístico conhecido como Elbow method para avaliar qual o valor de cluster mais adequado para os diferentes datasets. Os gráficos a seguir mostram os dados de clusterização e do Elbow method para os diferentes datasets:"
   ]
  },
  {
   "cell_type": "markdown",
   "id": "trained-funeral",
   "metadata": {},
   "source": [
    "### Kmeans Dataset cluster.dat (não Normalizado)"
   ]
  },
  {
   "cell_type": "markdown",
   "id": "perceived-relation",
   "metadata": {},
   "source": [
    "##### 2 Clusters:"
   ]
  },
  {
   "cell_type": "code",
   "execution_count": 1,
   "id": "grand-interval",
   "metadata": {},
   "outputs": [
    {
     "data": {
      "text/html": [
       "<img src=\"kmeans_2c_nao_norm.png\"/>"
      ],
      "text/plain": [
       "<IPython.core.display.Image object>"
      ]
     },
     "execution_count": 1,
     "metadata": {},
     "output_type": "execute_result"
    }
   ],
   "source": [
    "from IPython.display import Image\n",
    "Image(url=\"kmeans_2c_nao_norm.png\")"
   ]
  },
  {
   "cell_type": "markdown",
   "id": "fabulous-accounting",
   "metadata": {},
   "source": [
    "##### 3 Clsuters"
   ]
  },
  {
   "cell_type": "code",
   "execution_count": 2,
   "id": "administrative-bahrain",
   "metadata": {},
   "outputs": [
    {
     "data": {
      "text/html": [
       "<img src=\"kmeans_3c_nao_norm.png\"/>"
      ],
      "text/plain": [
       "<IPython.core.display.Image object>"
      ]
     },
     "execution_count": 2,
     "metadata": {},
     "output_type": "execute_result"
    }
   ],
   "source": [
    "Image(url=\"kmeans_3c_nao_norm.png\")"
   ]
  },
  {
   "cell_type": "markdown",
   "id": "bound-trademark",
   "metadata": {},
   "source": [
    "##### Observando os gráficos de clusterizações para 2 e 3 clusters, é possivel verificar que para o dataset cluster.dat o algoritmo do kmeans não consegue clusterizar os dados de forma efetiva, fazendo com que dados que deveriam ficar em um mesmo cluster fiquem em clusters diferentes. Isso se deve ao fato de que o algoritmo é muito sensivel para pontos que ele entende como outliers, o que acaba deslocando os centroides para pontos fora dos clusters. "
   ]
  },
  {
   "cell_type": "markdown",
   "id": "valid-corruption",
   "metadata": {},
   "source": [
    "##### Observe como a métrica elbow para os dados não normalizados apresenta um cotovelo suavizado, não indicando muito bem qual o número ideal de cluster a ser configurado: "
   ]
  },
  {
   "cell_type": "code",
   "execution_count": 3,
   "id": "nearby-yorkshire",
   "metadata": {},
   "outputs": [
    {
     "data": {
      "text/html": [
       "<img src=\"elbow_kmeans_2d_not_norm.png\"/>"
      ],
      "text/plain": [
       "<IPython.core.display.Image object>"
      ]
     },
     "execution_count": 3,
     "metadata": {},
     "output_type": "execute_result"
    }
   ],
   "source": [
    "Image(url=\"elbow_kmeans_2d_not_norm.png\")"
   ]
  },
  {
   "cell_type": "markdown",
   "id": "hidden-township",
   "metadata": {},
   "source": [
    "### Kmeans Dataset cluster.dat (Normalizado)"
   ]
  },
  {
   "cell_type": "markdown",
   "id": "pacific-hearts",
   "metadata": {},
   "source": [
    "##### Apos a normalização dos dados, podemos verificar que o kmeans é fortemente afetado com relação aos pontos e clusters que ele encontra, fazendo agora com que os clusters fiquem melhores definidos entre as iterações:"
   ]
  },
  {
   "cell_type": "markdown",
   "id": "collaborative-edwards",
   "metadata": {},
   "source": [
    "##### 2 Clusters:"
   ]
  },
  {
   "cell_type": "code",
   "execution_count": 4,
   "id": "decreased-stylus",
   "metadata": {},
   "outputs": [
    {
     "data": {
      "text/html": [
       "<img src=\"kmeans_2c_norm.png\"/>"
      ],
      "text/plain": [
       "<IPython.core.display.Image object>"
      ]
     },
     "execution_count": 4,
     "metadata": {},
     "output_type": "execute_result"
    }
   ],
   "source": [
    "Image(url=\"kmeans_2c_norm.png\")"
   ]
  },
  {
   "cell_type": "markdown",
   "id": "front-bermuda",
   "metadata": {},
   "source": [
    "##### 3 Clusters:"
   ]
  },
  {
   "cell_type": "code",
   "execution_count": 5,
   "id": "synthetic-ordinary",
   "metadata": {},
   "outputs": [
    {
     "data": {
      "text/html": [
       "<img src=\"kmeans_3c_norm.png\"/>"
      ],
      "text/plain": [
       "<IPython.core.display.Image object>"
      ]
     },
     "execution_count": 5,
     "metadata": {},
     "output_type": "execute_result"
    }
   ],
   "source": [
    "Image(url=\"kmeans_3c_norm.png\")"
   ]
  },
  {
   "cell_type": "code",
   "execution_count": 6,
   "id": "golden-creature",
   "metadata": {},
   "outputs": [
    {
     "data": {
      "text/html": [
       "<img src=\"elbow_kmeans_2d.png\"/>"
      ],
      "text/plain": [
       "<IPython.core.display.Image object>"
      ]
     },
     "execution_count": 6,
     "metadata": {},
     "output_type": "execute_result"
    }
   ],
   "source": [
    "Image(url=\"elbow_kmeans_2d.png\")"
   ]
  },
  {
   "cell_type": "markdown",
   "id": "great-examination",
   "metadata": {},
   "source": [
    "##### Por outro lado, após a normalização dos dados podemos verificar que o método kmeans clusterizou os dados de maneira eficaz, mostrando que 3 clusters foi um resultado satisfatório para os dados fornecidos. Além disso, observe que o método Elbow aqui mostra um \"cotovelo\" acentuado , indicando que 3 é um ótimo valor para definir o número de clustaers para o dado dataset."
   ]
  },
  {
   "cell_type": "markdown",
   "id": "suited-details",
   "metadata": {},
   "source": [
    "### Kmeans Dataset Trip Advisor (não Normalizado)"
   ]
  },
  {
   "cell_type": "markdown",
   "id": "based-arthritis",
   "metadata": {},
   "source": [
    "##### O mesmo procedimento foi realizado para o dataset escolhido pelo grupo, porém o elbow method não indicou um \"cotovelo\" bem definido para um número variado de clusters, indicando que o kmeans não é o algoritmo mais indicado para clusterizar os dados para esse dataset. Os gráficos a seguir mostram algumas clusterizações e o elbow method para até 50 clusters não normalizados.\n",
    "\n",
    "##### (Vale ressaltar que para plotarmos os gráficos de clusters para o dado dataset, foi aplicada a redução de dimensionalidade pelo método PCA). "
   ]
  },
  {
   "cell_type": "markdown",
   "id": "demonstrated-penetration",
   "metadata": {},
   "source": [
    "##### 3 Clusters"
   ]
  },
  {
   "cell_type": "code",
   "execution_count": 7,
   "id": "coated-signal",
   "metadata": {},
   "outputs": [
    {
     "data": {
      "text/html": [
       "<img src=\"kmeans_3c_not_norm_trip.png\"/>"
      ],
      "text/plain": [
       "<IPython.core.display.Image object>"
      ]
     },
     "execution_count": 7,
     "metadata": {},
     "output_type": "execute_result"
    }
   ],
   "source": [
    "Image(url=\"kmeans_3c_not_norm_trip.png\")"
   ]
  },
  {
   "cell_type": "markdown",
   "id": "warming-spirit",
   "metadata": {},
   "source": [
    "##### 4 Clusters: "
   ]
  },
  {
   "cell_type": "code",
   "execution_count": 8,
   "id": "downtown-democracy",
   "metadata": {},
   "outputs": [
    {
     "data": {
      "text/html": [
       "<img src=\"kmeans_4c_not_norm_trip.png\"/>"
      ],
      "text/plain": [
       "<IPython.core.display.Image object>"
      ]
     },
     "execution_count": 8,
     "metadata": {},
     "output_type": "execute_result"
    }
   ],
   "source": [
    "Image(url=\"kmeans_4c_not_norm_trip.png\")"
   ]
  },
  {
   "cell_type": "markdown",
   "id": "military-twist",
   "metadata": {},
   "source": [
    "##### Pelos dados exibidos nos graficos de clusters, podemos perceber que o dataset não apresenta uma distribuição que confirgure Clusters bem definidos, assim como o elbow method aplicado também não mostra um valor ideal para definir o número de clusters para teste."
   ]
  },
  {
   "cell_type": "code",
   "execution_count": 9,
   "id": "tender-vintage",
   "metadata": {},
   "outputs": [
    {
     "data": {
      "text/html": [
       "<img src=\"elbow_kmeans_nd.png\"/>"
      ],
      "text/plain": [
       "<IPython.core.display.Image object>"
      ]
     },
     "execution_count": 9,
     "metadata": {},
     "output_type": "execute_result"
    }
   ],
   "source": [
    "Image(url=\"elbow_kmeans_nd.png\")"
   ]
  },
  {
   "cell_type": "markdown",
   "id": "broke-inspection",
   "metadata": {},
   "source": [
    "### Kmeans Dataset Trip Advisor (Normalizado)"
   ]
  },
  {
   "cell_type": "markdown",
   "id": "robust-weight",
   "metadata": {},
   "source": [
    "##### Mesmo normalizando os dados para o dataset do trip advisor, não obtivemos resultados satisfatorios para um numero de clusters bem definido. Observer os graficos a seguir: "
   ]
  },
  {
   "cell_type": "markdown",
   "id": "agricultural-insight",
   "metadata": {},
   "source": [
    "##### 3 Clusters"
   ]
  },
  {
   "cell_type": "code",
   "execution_count": 10,
   "id": "brazilian-phoenix",
   "metadata": {},
   "outputs": [
    {
     "data": {
      "text/html": [
       "<img src=\"kmeans_3c_norm_trip.png\"/>"
      ],
      "text/plain": [
       "<IPython.core.display.Image object>"
      ]
     },
     "execution_count": 10,
     "metadata": {},
     "output_type": "execute_result"
    }
   ],
   "source": [
    "Image(url=\"kmeans_3c_norm_trip.png\")"
   ]
  },
  {
   "cell_type": "markdown",
   "id": "revolutionary-mozambique",
   "metadata": {},
   "source": [
    "##### 4 Clusters"
   ]
  },
  {
   "cell_type": "code",
   "execution_count": 11,
   "id": "south-stretch",
   "metadata": {},
   "outputs": [
    {
     "data": {
      "text/html": [
       "<img src=\"kmeans_4c_norm_trip.png\"/>"
      ],
      "text/plain": [
       "<IPython.core.display.Image object>"
      ]
     },
     "execution_count": 11,
     "metadata": {},
     "output_type": "execute_result"
    }
   ],
   "source": [
    "Image(url=\"kmeans_4c_norm_trip.png\")"
   ]
  },
  {
   "cell_type": "markdown",
   "id": "married-isolation",
   "metadata": {},
   "source": [
    "##### Podemos observar a partir daqui que mesmo realizando a normalização dos dados, a clusterização apresentou pouca ou nenhuma variação no número ou disposição dos clusters para o dado dataset. Reduzimos também o intervalo de número de clusters para o elbow méthod, onde a disposição de \"cotovelo\" se manteve suave mesmo que para os dados normalizados:"
   ]
  },
  {
   "cell_type": "code",
   "execution_count": 12,
   "id": "designed-variable",
   "metadata": {},
   "outputs": [
    {
     "data": {
      "text/html": [
       "<img src=\"elbow_kmeans_nd_trip.png\"/>"
      ],
      "text/plain": [
       "<IPython.core.display.Image object>"
      ]
     },
     "execution_count": 12,
     "metadata": {},
     "output_type": "execute_result"
    }
   ],
   "source": [
    "Image(url=\"elbow_kmeans_nd_trip.png\")"
   ]
  },
  {
   "cell_type": "markdown",
   "id": "excessive-outdoors",
   "metadata": {},
   "source": [
    "## DBScan Clsuters e Knees"
   ]
  },
  {
   "cell_type": "markdown",
   "id": "external-oklahoma",
   "metadata": {},
   "source": [
    "##### Para o DBScan, existem 2 hiperparametros que devemos definir antes da execução. Um deles é a quantidade mínima de pontos (minPts), que definimos um valor fixo para o mesmo de acordo com o número de features apresentada em cada dataset. Logo, seguimos a seguinte regra para estabelecer o valor de minPts:  "
   ]
  },
  {
   "cell_type": "markdown",
   "id": "minimal-dimension",
   "metadata": {},
   "source": [
    "#### minPts >= numero de features + 1"
   ]
  },
  {
   "cell_type": "markdown",
   "id": "italic-nylon",
   "metadata": {},
   "source": [
    "##### Logo, para o dataset cluster.dat temos que o valor de minPts foi fixado em 3 e para o dataset do Trip Advisor, fixamos o valor em 11. Assim, minPts indica o número mínimo de pontos necessários para se definir um cluster dentro do raio definido pelo segundo parametro que vamos avaliar."
   ]
  },
  {
   "cell_type": "markdown",
   "id": "lesser-arbor",
   "metadata": {},
   "source": [
    "##### O segundo parametro é o eps (Epsolon) que indica o raio que os clusters vão apresentar. Assim, para avaliar esse parametro executamos o DBScan variando o valor de eps e apos varias execuções, plotamos um o gráfico de heuristica chamado Knee (joelho), que similar ao Elbow, indica possiveis valores ideais de eps para se clusterizar os dados fornecidos.   "
   ]
  },
  {
   "cell_type": "markdown",
   "id": "portuguese-progressive",
   "metadata": {},
   "source": [
    "### DBScan Dataset cluster.dat (Não Normalizado)"
   ]
  },
  {
   "cell_type": "markdown",
   "id": "desirable-reader",
   "metadata": {},
   "source": [
    "##### A aplicação do método DBScan para os dados não normalizados do dataset cluster.dat torna dificil estabelecer um valor de eps que separa os clusters de forma bem definida. Desse modo, alguns pontos que deveriam pertencer a um dado cluster acabam por cair em um novo cluster definido pelo metodo. Observe os graficos a seguir para diferentes valores de eps:"
   ]
  },
  {
   "cell_type": "markdown",
   "id": "allied-lighting",
   "metadata": {},
   "source": [
    "##### Eps = 23 "
   ]
  },
  {
   "cell_type": "code",
   "execution_count": 13,
   "id": "steady-regulation",
   "metadata": {},
   "outputs": [
    {
     "data": {
      "text/html": [
       "<img src=\"dbscan_dat_eps_23.png\"/>"
      ],
      "text/plain": [
       "<IPython.core.display.Image object>"
      ]
     },
     "execution_count": 13,
     "metadata": {},
     "output_type": "execute_result"
    }
   ],
   "source": [
    "Image(url=\"dbscan_dat_eps_23.png\")"
   ]
  },
  {
   "cell_type": "markdown",
   "id": "white-collective",
   "metadata": {},
   "source": [
    "##### Eps = 27"
   ]
  },
  {
   "cell_type": "code",
   "execution_count": 14,
   "id": "durable-shoulder",
   "metadata": {},
   "outputs": [
    {
     "data": {
      "text/html": [
       "<img src=\"dbscan_dat_eps_27.png\"/>"
      ],
      "text/plain": [
       "<IPython.core.display.Image object>"
      ]
     },
     "execution_count": 14,
     "metadata": {},
     "output_type": "execute_result"
    }
   ],
   "source": [
    "Image(url=\"dbscan_dat_eps_27.png\")"
   ]
  },
  {
   "cell_type": "markdown",
   "id": "acknowledged-musician",
   "metadata": {},
   "source": [
    "##### Para decidir um bom valor de Eps olhando para o gráfico Knee, devemos observar os pontos onde ocorre um crescimento repentino do eixo y (que são valores de Eps) para uma pequena variação no eixo x (que são os indices dos pontos percorridos de forma ordenada). Logo os gráficos anteriormente apresentados, podemos perceber que os melhores valores de clusterização estão no intervalo entre 20 e 30, mas ainda não foi possível uma clusterização satisfatória:"
   ]
  },
  {
   "cell_type": "code",
   "execution_count": 15,
   "id": "ordered-sample",
   "metadata": {},
   "outputs": [
    {
     "data": {
      "text/html": [
       "<img src=\"knee_dbscan_2d_not_norm.png\"/>"
      ],
      "text/plain": [
       "<IPython.core.display.Image object>"
      ]
     },
     "execution_count": 15,
     "metadata": {},
     "output_type": "execute_result"
    }
   ],
   "source": [
    "Image(url=\"knee_dbscan_2d_not_norm.png\")"
   ]
  },
  {
   "cell_type": "markdown",
   "id": "muslim-screening",
   "metadata": {},
   "source": [
    "### DBScan Dataset cluster.dat (Normalizado)"
   ]
  },
  {
   "cell_type": "markdown",
   "id": "nervous-injury",
   "metadata": {},
   "source": [
    "##### Após a normalização dos dados do dataset cluster.dat, conseguimos definir um valor para Eps que clusteriza os dados fornecidos de forma satisfatória. Observe que se o valor de Eps é muito baixo, os pontos são considerados pertencentes a um mesmo cluster, já quando o valor ótimo é alcançado, a separação dos clusters se torna evidente:"
   ]
  },
  {
   "cell_type": "markdown",
   "id": "residential-begin",
   "metadata": {},
   "source": [
    "##### Eps = 0.004"
   ]
  },
  {
   "cell_type": "code",
   "execution_count": 16,
   "id": "surprised-xerox",
   "metadata": {},
   "outputs": [
    {
     "data": {
      "text/html": [
       "<img src=\"dbscan_dat_eps_norm_0004.png\"/>"
      ],
      "text/plain": [
       "<IPython.core.display.Image object>"
      ]
     },
     "execution_count": 16,
     "metadata": {},
     "output_type": "execute_result"
    }
   ],
   "source": [
    "Image(url=\"dbscan_dat_eps_norm_0004.png\")"
   ]
  },
  {
   "cell_type": "markdown",
   "id": "established-portable",
   "metadata": {},
   "source": [
    "##### Eps = 0.024"
   ]
  },
  {
   "cell_type": "code",
   "execution_count": 17,
   "id": "heard-illinois",
   "metadata": {},
   "outputs": [
    {
     "data": {
      "text/html": [
       "<img src=\"dbscan_dat_eps_norm_0024.png\"/>"
      ],
      "text/plain": [
       "<IPython.core.display.Image object>"
      ]
     },
     "execution_count": 17,
     "metadata": {},
     "output_type": "execute_result"
    }
   ],
   "source": [
    "Image(url=\"dbscan_dat_eps_norm_0024.png\")"
   ]
  },
  {
   "cell_type": "markdown",
   "id": "august-enemy",
   "metadata": {},
   "source": [
    "##### Eps = 0.058 (Melhor valor)"
   ]
  },
  {
   "cell_type": "code",
   "execution_count": 18,
   "id": "horizontal-supplement",
   "metadata": {},
   "outputs": [
    {
     "data": {
      "text/html": [
       "<img src=\"dbscan_dat_eps_norm_0058.png\"/>"
      ],
      "text/plain": [
       "<IPython.core.display.Image object>"
      ]
     },
     "execution_count": 18,
     "metadata": {},
     "output_type": "execute_result"
    }
   ],
   "source": [
    "Image(url=\"dbscan_dat_eps_norm_0058.png\")"
   ]
  },
  {
   "cell_type": "markdown",
   "id": "tribal-sharing",
   "metadata": {},
   "source": [
    "##### O gráfico do Knee Method para avaliar um bom valor de Eps para os dados normalizados segue a mesma regra. Devemos observar a tomar os valores onde a curva começa a tomar um crescimento rápido. Observe o gráfico a seguir, onde podemos ver que valores bons para Eps começam a partir de 0.05:"
   ]
  },
  {
   "cell_type": "code",
   "execution_count": 19,
   "id": "careful-dispute",
   "metadata": {},
   "outputs": [
    {
     "data": {
      "text/html": [
       "<img src=\"knee_dbscan_2d_norm.png\"/>"
      ],
      "text/plain": [
       "<IPython.core.display.Image object>"
      ]
     },
     "execution_count": 19,
     "metadata": {},
     "output_type": "execute_result"
    }
   ],
   "source": [
    "Image(url=\"knee_dbscan_2d_norm.png\")"
   ]
  },
  {
   "cell_type": "markdown",
   "id": "wound-attack",
   "metadata": {},
   "source": [
    "### DBScan Dataset Trip Advisor (Não Normalizado)"
   ]
  },
  {
   "cell_type": "code",
   "execution_count": null,
   "id": "piano-conservative",
   "metadata": {},
   "outputs": [],
   "source": []
  },
  {
   "cell_type": "code",
   "execution_count": null,
   "id": "italian-moderator",
   "metadata": {},
   "outputs": [],
   "source": []
  },
  {
   "cell_type": "markdown",
   "id": "medium-colleague",
   "metadata": {},
   "source": [
    "### DBScan Dataset Trip Advisor (Normalizado)"
   ]
  },
  {
   "cell_type": "code",
   "execution_count": null,
   "id": "instrumental-wells",
   "metadata": {},
   "outputs": [],
   "source": []
  },
  {
   "cell_type": "code",
   "execution_count": null,
   "id": "convenient-pizza",
   "metadata": {},
   "outputs": [],
   "source": []
  },
  {
   "cell_type": "markdown",
   "id": "collaborative-bachelor",
   "metadata": {},
   "source": [
    "## Avaliação e Discução"
   ]
  },
  {
   "cell_type": "markdown",
   "id": "pressing-jesus",
   "metadata": {},
   "source": [
    "### Normalização dos Resultados\n",
    "\n",
    "##### Para o dataset cluster.dat, a normalização dos dados ajudou o método Kmeans a realizar a clusterização de forma mais eficaz. Isso se deve ao fato de que o dataset, por apresentar valores consideravelmente distantes, pode impactar na execução do algoritmo. Normalizando os dados, a taxa de distribuição dos dados se mantem constante, permitindo uma clusterização mais eficaz.\n",
    "\n",
    "##### Já para o segundo dataset escolhido, do Trip Advisor, os dados não apresentaram clusters muito bem definidos, o que fez com que a normalização não afetasse de forma significativa os resultados encontrados."
   ]
  },
  {
   "cell_type": "markdown",
   "id": "interested-punch",
   "metadata": {},
   "source": [
    "### Número de Clusters alcançados pelos algoritmos\n",
    "\n",
    "##### Conforme observamos nos gráficos apresentados, para o dataset cluster.dat o número de clusters alcançados foram satisfatórios para ambos os algoritmos. Em contrapartida, os dados do dataset Trip Advisor não apresentaram um número ótimo de clusters. Embora possamos observar que encontramos um melhor valor de Eps (para o algoritmo DBScan) e um melhor valor de clusters (para o algoritmo Kmeans), o segundo dataset não mostrou ótimos resultados por conta da própria natureza dos dados, que no caso foram os valores levados em consideração durante a redução de dimensão com o método PCA."
   ]
  },
  {
   "cell_type": "markdown",
   "id": "egyptian-wayne",
   "metadata": {},
   "source": [
    "### Vantagens e Desvantagens dos algoritmos apresentados\n",
    "\n",
    "##### A seguir pontuamos algumas vantagens e desvantagens para os algorimtos Kmeans e DBScan que pudemos observar durante nossos treinamentos e testes:\n",
    "\n",
    "#### Vantagens Kmeans\n",
    "\n",
    "##### • É Relativamente simples de implementar, sendo um algoritmo com métricas relativamente simples\n",
    "##### • Garante convergencia pois sempre atualizamos a posição do centróide até que ele pare de se mover\n",
    "##### • Se adaptar facilmente a novas entradas indicando um aprendizado rápido\n",
    "\n",
    "#### Desvantagens Kmeans\n",
    "\n",
    "##### • É necessário inicializar o número de clusters\n",
    "#####   -----> Traz a necessidade de realizar várias avaliações para determinar um valor k inicial.\n",
    "\n",
    "##### • É muito sensível à Outliers, o que pode afetar os resultados obtidos das clusterizações.\n",
    "##### • Normalização ou não dos dados pode afetar desempenho e os resultados obtidos\n",
    "\n",
    "#### Vantagens DBScan\n",
    "\n",
    "##### • Os clusters encotrados por esse método podem ter qualquer formato \n",
    "##### • Também possibilita encontrar clusters independente dos clusters no entorno\n",
    "##### • É bastante eficaz para encontrar outliers dentre os dados dos datasets\n",
    "\n",
    "#### Desvantagens DBScan\n",
    "\n",
    "##### • A Densidade dos dados processados podem afetar os resultados/clusters obtidos\n",
    "##### • É necessário fornecer valores iniciais de Eps e minPts\n",
    "#####   -----> Como no kmeans traz a necessidade de realizar avaliações para determinar os valores iniciais\n",
    "\n",
    "##### • A amostragem de treinamento afeta as medidas de densidade que serão aplicadas nos testes"
   ]
  },
  {
   "cell_type": "markdown",
   "id": "quality-seventh",
   "metadata": {},
   "source": [
    "### Inicialização dos centros dos clusters (Pedrinho)\n",
    "\n",
    "##### Kmeans \n",
    "##### DBScan"
   ]
  },
  {
   "cell_type": "markdown",
   "id": "controversial-writer",
   "metadata": {},
   "source": [
    "### Redução de dimensionalidade e seus efeitos nos resultados (Pedrinho)\n",
    "\n",
    "##### (Colocar sobre a parte II PCA)"
   ]
  },
  {
   "cell_type": "code",
   "execution_count": null,
   "id": "convertible-fifteen",
   "metadata": {},
   "outputs": [],
   "source": []
  }
 ],
 "metadata": {
  "kernelspec": {
   "display_name": "Python 3",
   "language": "python",
   "name": "python3"
  },
  "language_info": {
   "codemirror_mode": {
    "name": "ipython",
    "version": 3
   },
   "file_extension": ".py",
   "mimetype": "text/x-python",
   "name": "python",
   "nbconvert_exporter": "python",
   "pygments_lexer": "ipython3",
   "version": "3.7.8"
  }
 },
 "nbformat": 4,
 "nbformat_minor": 5
}
